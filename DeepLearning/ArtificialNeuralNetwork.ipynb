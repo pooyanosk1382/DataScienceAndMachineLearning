{
 "cells": [
  {
   "cell_type": "markdown",
   "source": [
    "# Artificial Neural Network"
   ],
   "metadata": {
    "collapsed": false,
    "pycharm": {
     "name": "#%% md\n"
    }
   }
  },
  {
   "cell_type": "markdown",
   "source": [
    "## Import libraries"
   ],
   "metadata": {
    "collapsed": false,
    "pycharm": {
     "name": "#%% md\n"
    }
   }
  },
  {
   "cell_type": "code",
   "execution_count": 41,
   "outputs": [],
   "source": [
    "import numpy as np\n",
    "import pandas as pd\n",
    "import tensorflow as tf"
   ],
   "metadata": {
    "collapsed": false,
    "pycharm": {
     "name": "#%%\n"
    }
   }
  },
  {
   "cell_type": "code",
   "execution_count": 42,
   "outputs": [
    {
     "data": {
      "text/plain": "'2.13.0'"
     },
     "execution_count": 42,
     "metadata": {},
     "output_type": "execute_result"
    }
   ],
   "source": [
    "tf.__version__"
   ],
   "metadata": {
    "collapsed": false,
    "pycharm": {
     "name": "#%%\n"
    }
   }
  },
  {
   "cell_type": "markdown",
   "source": [
    "# Part 1 - Data Preprocessing"
   ],
   "metadata": {
    "collapsed": false,
    "pycharm": {
     "name": "#%% md\n"
    }
   }
  },
  {
   "cell_type": "markdown",
   "source": [
    "## Import the dataset"
   ],
   "metadata": {
    "collapsed": false,
    "pycharm": {
     "name": "#%% md\n"
    }
   }
  },
  {
   "cell_type": "code",
   "execution_count": 43,
   "outputs": [],
   "source": [
    "dataset = pd.read_csv('Churn_Modelling.csv')\n",
    "x = dataset.iloc[:, 3:-1].values\n",
    "y = dataset.iloc[:,   -1].values"
   ],
   "metadata": {
    "collapsed": false,
    "pycharm": {
     "name": "#%%\n"
    }
   }
  },
  {
   "cell_type": "code",
   "execution_count": 44,
   "outputs": [
    {
     "name": "stdout",
     "output_type": "stream",
     "text": [
      "[[619 'France' 'Female' ... 1 1 101348.88]\n",
      " [608 'Spain' 'Female' ... 0 1 112542.58]\n",
      " [502 'France' 'Female' ... 1 0 113931.57]\n",
      " ...\n",
      " [709 'France' 'Female' ... 0 1 42085.58]\n",
      " [772 'Germany' 'Male' ... 1 0 92888.52]\n",
      " [792 'France' 'Female' ... 1 0 38190.78]]\n"
     ]
    }
   ],
   "source": [
    "print(x)"
   ],
   "metadata": {
    "collapsed": false,
    "pycharm": {
     "name": "#%%\n"
    }
   }
  },
  {
   "cell_type": "code",
   "execution_count": 45,
   "outputs": [
    {
     "name": "stdout",
     "output_type": "stream",
     "text": [
      "[1 0 1 ... 1 1 0]\n"
     ]
    }
   ],
   "source": [
    "print(y)"
   ],
   "metadata": {
    "collapsed": false,
    "pycharm": {
     "name": "#%%\n"
    }
   }
  },
  {
   "cell_type": "markdown",
   "source": [
    "## Encoding categorical data"
   ],
   "metadata": {
    "collapsed": false,
    "pycharm": {
     "name": "#%% md\n"
    }
   }
  },
  {
   "cell_type": "markdown",
   "source": [
    "### Label Encoding the \"Gender\" column"
   ],
   "metadata": {
    "collapsed": false,
    "pycharm": {
     "name": "#%% md\n"
    }
   }
  },
  {
   "cell_type": "code",
   "execution_count": 46,
   "outputs": [],
   "source": [
    "from sklearn.preprocessing import LabelEncoder\n",
    "le = LabelEncoder()\n",
    "x[:, 2] = le.fit_transform(x[:, 2])"
   ],
   "metadata": {
    "collapsed": false,
    "pycharm": {
     "name": "#%%\n"
    }
   }
  },
  {
   "cell_type": "code",
   "execution_count": 47,
   "outputs": [
    {
     "name": "stdout",
     "output_type": "stream",
     "text": [
      "[[619 'France' 0 ... 1 1 101348.88]\n",
      " [608 'Spain' 0 ... 0 1 112542.58]\n",
      " [502 'France' 0 ... 1 0 113931.57]\n",
      " ...\n",
      " [709 'France' 0 ... 0 1 42085.58]\n",
      " [772 'Germany' 1 ... 1 0 92888.52]\n",
      " [792 'France' 0 ... 1 0 38190.78]]\n"
     ]
    }
   ],
   "source": [
    "print(x)"
   ],
   "metadata": {
    "collapsed": false,
    "pycharm": {
     "name": "#%%\n"
    }
   }
  },
  {
   "cell_type": "markdown",
   "source": [
    "### One Hot Encoding the \"Geography\" column"
   ],
   "metadata": {
    "collapsed": false,
    "pycharm": {
     "name": "#%% md\n"
    }
   }
  },
  {
   "cell_type": "code",
   "execution_count": 48,
   "outputs": [],
   "source": [
    "from sklearn.compose import ColumnTransformer\n",
    "from sklearn.preprocessing import OneHotEncoder\n",
    "ct = ColumnTransformer(transformers=[('encoder', OneHotEncoder(), [1])], remainder='passthrough')\n",
    "x = np.array(ct.fit_transform(x))"
   ],
   "metadata": {
    "collapsed": false,
    "pycharm": {
     "name": "#%%\n"
    }
   }
  },
  {
   "cell_type": "code",
   "execution_count": 49,
   "outputs": [
    {
     "name": "stdout",
     "output_type": "stream",
     "text": [
      "[[1.0 0.0 0.0 ... 1 1 101348.88]\n",
      " [0.0 0.0 1.0 ... 0 1 112542.58]\n",
      " [1.0 0.0 0.0 ... 1 0 113931.57]\n",
      " ...\n",
      " [1.0 0.0 0.0 ... 0 1 42085.58]\n",
      " [0.0 1.0 0.0 ... 1 0 92888.52]\n",
      " [1.0 0.0 0.0 ... 1 0 38190.78]]\n"
     ]
    }
   ],
   "source": [
    "print(x)"
   ],
   "metadata": {
    "collapsed": false,
    "pycharm": {
     "name": "#%%\n"
    }
   }
  },
  {
   "cell_type": "markdown",
   "source": [
    "## Splitting the dataset into the Training set and Test set"
   ],
   "metadata": {
    "collapsed": false,
    "pycharm": {
     "name": "#%% md\n"
    }
   }
  },
  {
   "cell_type": "code",
   "execution_count": 50,
   "outputs": [],
   "source": [
    "from sklearn.model_selection import train_test_split\n",
    "xTrain, xTest, yTrain, yTest = train_test_split(x, y, test_size=0.2, random_state=0)"
   ],
   "metadata": {
    "collapsed": false,
    "pycharm": {
     "name": "#%%\n"
    }
   }
  },
  {
   "cell_type": "markdown",
   "source": [
    "## Feature Scaling"
   ],
   "metadata": {
    "collapsed": false,
    "pycharm": {
     "name": "#%% md\n"
    }
   }
  },
  {
   "cell_type": "code",
   "execution_count": 51,
   "outputs": [],
   "source": [
    "from sklearn.preprocessing import StandardScaler\n",
    "sc = StandardScaler()\n",
    "xTrain = sc.fit_transform(xTrain)\n",
    "xTest = sc.transform(xTest)"
   ],
   "metadata": {
    "collapsed": false,
    "pycharm": {
     "name": "#%%\n"
    }
   }
  },
  {
   "cell_type": "markdown",
   "source": [
    "# Part 2 - Building the ANN"
   ],
   "metadata": {
    "collapsed": false,
    "pycharm": {
     "name": "#%% md\n"
    }
   }
  },
  {
   "cell_type": "markdown",
   "source": [
    "## Initializing the ANN"
   ],
   "metadata": {
    "collapsed": false,
    "pycharm": {
     "name": "#%% md\n"
    }
   }
  },
  {
   "cell_type": "code",
   "execution_count": 52,
   "outputs": [],
   "source": [
    "ann = tf.keras.models.Sequential()"
   ],
   "metadata": {
    "collapsed": false,
    "pycharm": {
     "name": "#%%\n"
    }
   }
  },
  {
   "cell_type": "markdown",
   "source": [
    "## Adding the input layer and the first hidden layer"
   ],
   "metadata": {
    "collapsed": false,
    "pycharm": {
     "name": "#%% md\n"
    }
   }
  },
  {
   "cell_type": "code",
   "execution_count": 53,
   "outputs": [],
   "source": [
    "ann.add(tf.keras.layers.Dense(units=6, activation='relu'))"
   ],
   "metadata": {
    "collapsed": false,
    "pycharm": {
     "name": "#%%\n"
    }
   }
  },
  {
   "cell_type": "markdown",
   "source": [
    "## Adding the second hidden layer"
   ],
   "metadata": {
    "collapsed": false,
    "pycharm": {
     "name": "#%% md\n"
    }
   }
  },
  {
   "cell_type": "code",
   "execution_count": 54,
   "outputs": [],
   "source": [
    "ann.add(tf.keras.layers.Dense(units=6, activation='relu'))"
   ],
   "metadata": {
    "collapsed": false,
    "pycharm": {
     "name": "#%%\n"
    }
   }
  },
  {
   "cell_type": "markdown",
   "source": [
    "## Adding the output layer"
   ],
   "metadata": {
    "collapsed": false,
    "pycharm": {
     "name": "#%% md\n"
    }
   }
  },
  {
   "cell_type": "code",
   "execution_count": 55,
   "outputs": [],
   "source": [
    "ann.add(tf.keras.layers.Dense(units=1, activation='sigmoid'))"
   ],
   "metadata": {
    "collapsed": false,
    "pycharm": {
     "name": "#%%\n"
    }
   }
  },
  {
   "cell_type": "markdown",
   "source": [
    "# Part 3 - Training the ANN"
   ],
   "metadata": {
    "collapsed": false,
    "pycharm": {
     "name": "#%% md\n"
    }
   }
  },
  {
   "cell_type": "markdown",
   "source": [
    "## Compiling the ANN"
   ],
   "metadata": {
    "collapsed": false,
    "pycharm": {
     "name": "#%% md\n"
    }
   }
  },
  {
   "cell_type": "code",
   "execution_count": 56,
   "outputs": [],
   "source": [
    "ann.compile(optimizer='adam', loss='binary_crossentropy', metrics=['accuracy'])"
   ],
   "metadata": {
    "collapsed": false,
    "pycharm": {
     "name": "#%%\n"
    }
   }
  },
  {
   "cell_type": "markdown",
   "source": [
    "## Training the ANN on the Training set"
   ],
   "metadata": {
    "collapsed": false,
    "pycharm": {
     "name": "#%% md\n"
    }
   }
  },
  {
   "cell_type": "code",
   "execution_count": 57,
   "outputs": [
    {
     "name": "stdout",
     "output_type": "stream",
     "text": [
      "Epoch 1/100\n",
      "250/250 [==============================] - 1s 782us/step - loss: 0.5353 - accuracy: 0.7847\n",
      "Epoch 2/100\n",
      "250/250 [==============================] - 0s 983us/step - loss: 0.4723 - accuracy: 0.8006\n",
      "Epoch 3/100\n",
      "250/250 [==============================] - 0s 963us/step - loss: 0.4458 - accuracy: 0.8105\n",
      "Epoch 4/100\n",
      "250/250 [==============================] - 0s 964us/step - loss: 0.4320 - accuracy: 0.8174\n",
      "Epoch 5/100\n",
      "250/250 [==============================] - 0s 823us/step - loss: 0.4236 - accuracy: 0.8229\n",
      "Epoch 6/100\n",
      "250/250 [==============================] - 0s 783us/step - loss: 0.4185 - accuracy: 0.8248\n",
      "Epoch 7/100\n",
      "250/250 [==============================] - 0s 743us/step - loss: 0.4146 - accuracy: 0.8270\n",
      "Epoch 8/100\n",
      "250/250 [==============================] - 0s 945us/step - loss: 0.4118 - accuracy: 0.8278\n",
      "Epoch 9/100\n",
      "250/250 [==============================] - 0s 784us/step - loss: 0.4095 - accuracy: 0.8284\n",
      "Epoch 10/100\n",
      "250/250 [==============================] - 0s 802us/step - loss: 0.4076 - accuracy: 0.8295\n",
      "Epoch 11/100\n",
      "250/250 [==============================] - 0s 864us/step - loss: 0.4062 - accuracy: 0.8292\n",
      "Epoch 12/100\n",
      "250/250 [==============================] - 0s 983us/step - loss: 0.4047 - accuracy: 0.8329\n",
      "Epoch 13/100\n",
      "250/250 [==============================] - 0s 821us/step - loss: 0.4037 - accuracy: 0.8319\n",
      "Epoch 14/100\n",
      "250/250 [==============================] - 0s 784us/step - loss: 0.4026 - accuracy: 0.8328\n",
      "Epoch 15/100\n",
      "250/250 [==============================] - 0s 741us/step - loss: 0.4013 - accuracy: 0.8324\n",
      "Epoch 16/100\n",
      "250/250 [==============================] - 0s 745us/step - loss: 0.4003 - accuracy: 0.8347\n",
      "Epoch 17/100\n",
      "250/250 [==============================] - 0s 724us/step - loss: 0.3991 - accuracy: 0.8347\n",
      "Epoch 18/100\n",
      "250/250 [==============================] - 0s 723us/step - loss: 0.3984 - accuracy: 0.8349\n",
      "Epoch 19/100\n",
      "250/250 [==============================] - 0s 762us/step - loss: 0.3973 - accuracy: 0.8339\n",
      "Epoch 20/100\n",
      "250/250 [==============================] - 0s 808us/step - loss: 0.3960 - accuracy: 0.8341\n",
      "Epoch 21/100\n",
      "250/250 [==============================] - 0s 724us/step - loss: 0.3951 - accuracy: 0.8336\n",
      "Epoch 22/100\n",
      "250/250 [==============================] - 0s 762us/step - loss: 0.3935 - accuracy: 0.8350\n",
      "Epoch 23/100\n",
      "250/250 [==============================] - 0s 975us/step - loss: 0.3924 - accuracy: 0.8338\n",
      "Epoch 24/100\n",
      "250/250 [==============================] - 0s 942us/step - loss: 0.3912 - accuracy: 0.8351\n",
      "Epoch 25/100\n",
      "250/250 [==============================] - 0s 943us/step - loss: 0.3895 - accuracy: 0.8341\n",
      "Epoch 26/100\n",
      "250/250 [==============================] - 0s 1ms/step - loss: 0.3879 - accuracy: 0.8360\n",
      "Epoch 27/100\n",
      "250/250 [==============================] - 0s 964us/step - loss: 0.3859 - accuracy: 0.8366\n",
      "Epoch 28/100\n",
      "250/250 [==============================] - 0s 935us/step - loss: 0.3845 - accuracy: 0.8364\n",
      "Epoch 29/100\n",
      "250/250 [==============================] - 0s 945us/step - loss: 0.3824 - accuracy: 0.8367\n",
      "Epoch 30/100\n",
      "250/250 [==============================] - 0s 1ms/step - loss: 0.3810 - accuracy: 0.8359\n",
      "Epoch 31/100\n",
      "250/250 [==============================] - 0s 803us/step - loss: 0.3790 - accuracy: 0.8380\n",
      "Epoch 32/100\n",
      "250/250 [==============================] - 0s 764us/step - loss: 0.3775 - accuracy: 0.8353\n",
      "Epoch 33/100\n",
      "250/250 [==============================] - 0s 741us/step - loss: 0.3762 - accuracy: 0.8371\n",
      "Epoch 34/100\n",
      "250/250 [==============================] - 0s 804us/step - loss: 0.3742 - accuracy: 0.8367\n",
      "Epoch 35/100\n",
      "250/250 [==============================] - 0s 722us/step - loss: 0.3729 - accuracy: 0.8366\n",
      "Epoch 36/100\n",
      "250/250 [==============================] - 0s 725us/step - loss: 0.3711 - accuracy: 0.8374\n",
      "Epoch 37/100\n",
      "250/250 [==============================] - 0s 743us/step - loss: 0.3696 - accuracy: 0.8404\n",
      "Epoch 38/100\n",
      "250/250 [==============================] - 0s 761us/step - loss: 0.3679 - accuracy: 0.8420\n",
      "Epoch 39/100\n",
      "250/250 [==============================] - 0s 925us/step - loss: 0.3663 - accuracy: 0.8447\n",
      "Epoch 40/100\n",
      "250/250 [==============================] - 0s 722us/step - loss: 0.3653 - accuracy: 0.8450\n",
      "Epoch 41/100\n",
      "250/250 [==============================] - 0s 745us/step - loss: 0.3632 - accuracy: 0.8472\n",
      "Epoch 42/100\n",
      "250/250 [==============================] - 0s 703us/step - loss: 0.3616 - accuracy: 0.8460\n",
      "Epoch 43/100\n",
      "250/250 [==============================] - 0s 763us/step - loss: 0.3602 - accuracy: 0.8479\n",
      "Epoch 44/100\n",
      "250/250 [==============================] - 0s 768us/step - loss: 0.3589 - accuracy: 0.8499\n",
      "Epoch 45/100\n",
      "250/250 [==============================] - 0s 767us/step - loss: 0.3573 - accuracy: 0.8522\n",
      "Epoch 46/100\n",
      "250/250 [==============================] - 0s 847us/step - loss: 0.3563 - accuracy: 0.8521\n",
      "Epoch 47/100\n",
      "250/250 [==============================] - 0s 765us/step - loss: 0.3552 - accuracy: 0.8529\n",
      "Epoch 48/100\n",
      "250/250 [==============================] - 0s 842us/step - loss: 0.3537 - accuracy: 0.8537\n",
      "Epoch 49/100\n",
      "250/250 [==============================] - 0s 703us/step - loss: 0.3521 - accuracy: 0.8556\n",
      "Epoch 50/100\n",
      "250/250 [==============================] - 0s 802us/step - loss: 0.3511 - accuracy: 0.8572\n",
      "Epoch 51/100\n",
      "250/250 [==============================] - 0s 865us/step - loss: 0.3505 - accuracy: 0.8568\n",
      "Epoch 52/100\n",
      "250/250 [==============================] - 0s 721us/step - loss: 0.3491 - accuracy: 0.8587\n",
      "Epoch 53/100\n",
      "250/250 [==============================] - 0s 724us/step - loss: 0.3485 - accuracy: 0.8601\n",
      "Epoch 54/100\n",
      "250/250 [==============================] - 0s 764us/step - loss: 0.3468 - accuracy: 0.8593\n",
      "Epoch 55/100\n",
      "250/250 [==============================] - 0s 784us/step - loss: 0.3468 - accuracy: 0.8606\n",
      "Epoch 56/100\n",
      "250/250 [==============================] - 0s 741us/step - loss: 0.3456 - accuracy: 0.8601\n",
      "Epoch 57/100\n",
      "250/250 [==============================] - 0s 1ms/step - loss: 0.3452 - accuracy: 0.8590\n",
      "Epoch 58/100\n",
      "250/250 [==============================] - 0s 904us/step - loss: 0.3449 - accuracy: 0.8618\n",
      "Epoch 59/100\n",
      "250/250 [==============================] - 0s 922us/step - loss: 0.3433 - accuracy: 0.8620\n",
      "Epoch 60/100\n",
      "250/250 [==============================] - 0s 1ms/step - loss: 0.3434 - accuracy: 0.8589\n",
      "Epoch 61/100\n",
      "250/250 [==============================] - 0s 1ms/step - loss: 0.3426 - accuracy: 0.8591\n",
      "Epoch 62/100\n",
      "250/250 [==============================] - 0s 903us/step - loss: 0.3424 - accuracy: 0.8619\n",
      "Epoch 63/100\n",
      "250/250 [==============================] - 0s 864us/step - loss: 0.3418 - accuracy: 0.8612\n",
      "Epoch 64/100\n",
      "250/250 [==============================] - 0s 1ms/step - loss: 0.3420 - accuracy: 0.8610\n",
      "Epoch 65/100\n",
      "250/250 [==============================] - 0s 964us/step - loss: 0.3413 - accuracy: 0.8609\n",
      "Epoch 66/100\n",
      "250/250 [==============================] - 0s 944us/step - loss: 0.3412 - accuracy: 0.8612\n",
      "Epoch 67/100\n",
      "250/250 [==============================] - 0s 811us/step - loss: 0.3409 - accuracy: 0.8605\n",
      "Epoch 68/100\n",
      "250/250 [==============================] - 0s 754us/step - loss: 0.3401 - accuracy: 0.8620\n",
      "Epoch 69/100\n",
      "250/250 [==============================] - 0s 762us/step - loss: 0.3393 - accuracy: 0.8606\n",
      "Epoch 70/100\n",
      "250/250 [==============================] - 0s 775us/step - loss: 0.3396 - accuracy: 0.8624\n",
      "Epoch 71/100\n",
      "250/250 [==============================] - 0s 722us/step - loss: 0.3392 - accuracy: 0.8615\n",
      "Epoch 72/100\n",
      "250/250 [==============================] - 0s 763us/step - loss: 0.3392 - accuracy: 0.8619\n",
      "Epoch 73/100\n",
      "250/250 [==============================] - 0s 724us/step - loss: 0.3386 - accuracy: 0.8626\n",
      "Epoch 74/100\n",
      "250/250 [==============================] - 0s 802us/step - loss: 0.3388 - accuracy: 0.8619\n",
      "Epoch 75/100\n",
      "250/250 [==============================] - 0s 804us/step - loss: 0.3381 - accuracy: 0.8621\n",
      "Epoch 76/100\n",
      "250/250 [==============================] - 0s 783us/step - loss: 0.3382 - accuracy: 0.8624\n",
      "Epoch 77/100\n",
      "250/250 [==============================] - 0s 822us/step - loss: 0.3377 - accuracy: 0.8619\n",
      "Epoch 78/100\n",
      "250/250 [==============================] - 0s 721us/step - loss: 0.3373 - accuracy: 0.8624\n",
      "Epoch 79/100\n",
      "250/250 [==============================] - 0s 854us/step - loss: 0.3378 - accuracy: 0.8633\n",
      "Epoch 80/100\n",
      "250/250 [==============================] - 0s 765us/step - loss: 0.3373 - accuracy: 0.8629\n",
      "Epoch 81/100\n",
      "250/250 [==============================] - 0s 750us/step - loss: 0.3376 - accuracy: 0.8615\n",
      "Epoch 82/100\n",
      "250/250 [==============================] - 0s 763us/step - loss: 0.3370 - accuracy: 0.8627\n",
      "Epoch 83/100\n",
      "250/250 [==============================] - 0s 732us/step - loss: 0.3366 - accuracy: 0.8618\n",
      "Epoch 84/100\n",
      "250/250 [==============================] - 0s 742us/step - loss: 0.3365 - accuracy: 0.8615\n",
      "Epoch 85/100\n",
      "250/250 [==============================] - 0s 773us/step - loss: 0.3370 - accuracy: 0.8619\n",
      "Epoch 86/100\n",
      "250/250 [==============================] - 0s 722us/step - loss: 0.3367 - accuracy: 0.8627\n",
      "Epoch 87/100\n",
      "250/250 [==============================] - 0s 807us/step - loss: 0.3364 - accuracy: 0.8621\n",
      "Epoch 88/100\n",
      "250/250 [==============================] - 0s 772us/step - loss: 0.3359 - accuracy: 0.8616\n",
      "Epoch 89/100\n",
      "250/250 [==============================] - 0s 802us/step - loss: 0.3359 - accuracy: 0.8627\n",
      "Epoch 90/100\n",
      "250/250 [==============================] - 0s 845us/step - loss: 0.3359 - accuracy: 0.8630\n",
      "Epoch 91/100\n",
      "250/250 [==============================] - 0s 985us/step - loss: 0.3363 - accuracy: 0.8618\n",
      "Epoch 92/100\n",
      "250/250 [==============================] - 0s 946us/step - loss: 0.3358 - accuracy: 0.8633\n",
      "Epoch 93/100\n",
      "250/250 [==============================] - 0s 925us/step - loss: 0.3358 - accuracy: 0.8643\n",
      "Epoch 94/100\n",
      "250/250 [==============================] - 0s 1ms/step - loss: 0.3354 - accuracy: 0.8612\n",
      "Epoch 95/100\n",
      "250/250 [==============================] - 0s 1ms/step - loss: 0.3364 - accuracy: 0.8612\n",
      "Epoch 96/100\n",
      "250/250 [==============================] - 0s 1ms/step - loss: 0.3360 - accuracy: 0.8635\n",
      "Epoch 97/100\n",
      "250/250 [==============================] - 0s 952us/step - loss: 0.3357 - accuracy: 0.8631\n",
      "Epoch 98/100\n",
      "250/250 [==============================] - 0s 1ms/step - loss: 0.3351 - accuracy: 0.8621\n",
      "Epoch 99/100\n",
      "250/250 [==============================] - 0s 937us/step - loss: 0.3353 - accuracy: 0.8649\n",
      "Epoch 100/100\n",
      "250/250 [==============================] - 0s 945us/step - loss: 0.3345 - accuracy: 0.8644\n"
     ]
    },
    {
     "data": {
      "text/plain": "<keras.src.callbacks.History at 0x1c96147bbd0>"
     },
     "execution_count": 57,
     "metadata": {},
     "output_type": "execute_result"
    }
   ],
   "source": [
    "ann.fit(xTrain, yTrain, batch_size=32, epochs=100)"
   ],
   "metadata": {
    "collapsed": false,
    "pycharm": {
     "name": "#%%\n"
    }
   }
  },
  {
   "cell_type": "markdown",
   "source": [
    "# Part 4 - Making the predictions and evaluating the model"
   ],
   "metadata": {
    "collapsed": false,
    "pycharm": {
     "name": "#%% md\n"
    }
   }
  },
  {
   "cell_type": "markdown",
   "source": [
    "## Predicting the result of a single observation"
   ],
   "metadata": {
    "collapsed": false,
    "pycharm": {
     "name": "#%% md\n"
    }
   }
  },
  {
   "cell_type": "markdown",
   "source": [
    "**Homework**\n",
    "\n",
    "Use our ANN model to predict if the customer with the following informations will leave the bank:\n",
    "\n",
    "Geography: France\n",
    "\n",
    "Credit Score: 600\n",
    "\n",
    "Gender: Male\n",
    "\n",
    "Age: 40 years old\n",
    "\n",
    "Tenure: 3 years\n",
    "\n",
    "Balance: \\$ 60000\n",
    "\n",
    "Number of Products: 2\n",
    "\n",
    "Does this customer have a credit card ? Yes\n",
    "\n",
    "Is this customer an Active Member: Yes\n",
    "\n",
    "Estimated Salary: \\$ 50000\n",
    "\n",
    "So, should we say goodbye to that customer ?"
   ],
   "metadata": {
    "collapsed": false,
    "pycharm": {
     "name": "#%% md\n"
    }
   }
  },
  {
   "cell_type": "markdown",
   "source": [
    "**Solution**"
   ],
   "metadata": {
    "collapsed": false,
    "pycharm": {
     "name": "#%% md\n"
    }
   }
  },
  {
   "cell_type": "code",
   "execution_count": 58,
   "outputs": [
    {
     "name": "stdout",
     "output_type": "stream",
     "text": [
      "1/1 [==============================] - 0s 55ms/step\n",
      "[[False]]\n"
     ]
    }
   ],
   "source": [
    "print(ann.predict(sc.transform([[1, 0, 0, 600, 1, 40, 3, 60000, 2, 1, 1, 50000]])) > 0.5)"
   ],
   "metadata": {
    "collapsed": false,
    "pycharm": {
     "name": "#%%\n"
    }
   }
  },
  {
   "cell_type": "markdown",
   "source": [
    "Therefore, our ANN model predicts that this customer stays in the bank!\n",
    "\n",
    "**Important note 1:** Notice that the values of the features were all input in a double pair of square brackets. That's because the \"predict\" method always expects a 2D array as the format of its inputs. And putting our values into a double pair of square brackets makes the input exactly a 2D array.\n",
    "\n",
    "**Important note 2:** Notice also that the \"France\" country was not input as a string in the last column but as \"1, 0, 0\" in the first three columns. That's because of course the predict method expects the one-hot-encoded values of the state, and as we see in the first row of the matrix of features X, \"France\" was encoded as \"1, 0, 0\". And be careful to include these values in the first three columns, because the dummy variables are always created in the first columns."
   ],
   "metadata": {
    "collapsed": false,
    "pycharm": {
     "name": "#%% md\n"
    }
   }
  },
  {
   "cell_type": "markdown",
   "source": [
    "## Predicting the Test set results"
   ],
   "metadata": {
    "collapsed": false,
    "pycharm": {
     "name": "#%% md\n"
    }
   }
  },
  {
   "cell_type": "code",
   "execution_count": 59,
   "outputs": [
    {
     "name": "stdout",
     "output_type": "stream",
     "text": [
      "63/63 [==============================] - 0s 683us/step\n",
      "[[0 0]\n",
      " [0 1]\n",
      " [0 0]\n",
      " ...\n",
      " [0 0]\n",
      " [0 0]\n",
      " [0 0]]\n"
     ]
    }
   ],
   "source": [
    "yPred = ann.predict(xTest)\n",
    "yPred = (yPred > 0.5)\n",
    "print(np.concatenate((yPred.reshape(len(yPred), 1), yTest.reshape(len(yTest), 1)), 1))"
   ],
   "metadata": {
    "collapsed": false,
    "pycharm": {
     "name": "#%%\n"
    }
   }
  },
  {
   "cell_type": "markdown",
   "source": [
    "## Making the Confusion Matrix"
   ],
   "metadata": {
    "collapsed": false,
    "pycharm": {
     "name": "#%% md\n"
    }
   }
  },
  {
   "cell_type": "code",
   "execution_count": 60,
   "outputs": [
    {
     "name": "stdout",
     "output_type": "stream",
     "text": [
      "[[1532   63]\n",
      " [ 208  197]]\n"
     ]
    },
    {
     "data": {
      "text/plain": "0.8645"
     },
     "execution_count": 60,
     "metadata": {},
     "output_type": "execute_result"
    }
   ],
   "source": [
    "from sklearn.metrics import confusion_matrix, accuracy_score\n",
    "cm = confusion_matrix(yTest, yPred)\n",
    "print(cm)\n",
    "accuracy_score(yTest, yPred)"
   ],
   "metadata": {
    "collapsed": false,
    "pycharm": {
     "name": "#%%\n"
    }
   }
  }
 ],
 "metadata": {
  "kernelspec": {
   "display_name": "Python 3",
   "language": "python",
   "name": "python3"
  },
  "language_info": {
   "codemirror_mode": {
    "name": "ipython",
    "version": 2
   },
   "file_extension": ".py",
   "mimetype": "text/x-python",
   "name": "python",
   "nbconvert_exporter": "python",
   "pygments_lexer": "ipython2",
   "version": "2.7.6"
  }
 },
 "nbformat": 4,
 "nbformat_minor": 0
}