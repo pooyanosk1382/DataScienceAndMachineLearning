{
 "cells": [
  {
   "cell_type": "markdown",
   "source": [
    "# Artificial Neural Network"
   ],
   "metadata": {
    "collapsed": false,
    "pycharm": {
     "name": "#%% md\n"
    }
   }
  },
  {
   "cell_type": "markdown",
   "source": [
    "## Import libraries"
   ],
   "metadata": {
    "collapsed": false,
    "pycharm": {
     "name": "#%% md\n"
    }
   }
  },
  {
   "cell_type": "code",
   "execution_count": 49,
   "outputs": [],
   "source": [
    "import numpy as np\n",
    "import pandas as pd\n",
    "import tensorflow as tf"
   ],
   "metadata": {
    "collapsed": false,
    "pycharm": {
     "name": "#%%\n"
    }
   }
  },
  {
   "cell_type": "code",
   "execution_count": 50,
   "outputs": [
    {
     "data": {
      "text/plain": "'2.13.0'"
     },
     "execution_count": 50,
     "metadata": {},
     "output_type": "execute_result"
    }
   ],
   "source": [
    "tf.__version__"
   ],
   "metadata": {
    "collapsed": false,
    "pycharm": {
     "name": "#%%\n"
    }
   }
  },
  {
   "cell_type": "markdown",
   "source": [
    "# Part 1 - Data Preprocessing"
   ],
   "metadata": {
    "collapsed": false,
    "pycharm": {
     "name": "#%% md\n"
    }
   }
  },
  {
   "cell_type": "markdown",
   "source": [
    "## Import the dataset"
   ],
   "metadata": {
    "collapsed": false,
    "pycharm": {
     "name": "#%% md\n"
    }
   }
  },
  {
   "cell_type": "code",
   "execution_count": 51,
   "outputs": [],
   "source": [
    "dataset = pd.read_csv('Churn_Modelling.csv')\n",
    "x = dataset.iloc[:, 3:-1].values\n",
    "y = dataset.iloc[:,   -1].values"
   ],
   "metadata": {
    "collapsed": false,
    "pycharm": {
     "name": "#%%\n"
    }
   }
  },
  {
   "cell_type": "code",
   "execution_count": 52,
   "outputs": [
    {
     "name": "stdout",
     "output_type": "stream",
     "text": [
      "[[619 'France' 'Female' ... 1 1 101348.88]\n",
      " [608 'Spain' 'Female' ... 0 1 112542.58]\n",
      " [502 'France' 'Female' ... 1 0 113931.57]\n",
      " ...\n",
      " [709 'France' 'Female' ... 0 1 42085.58]\n",
      " [772 'Germany' 'Male' ... 1 0 92888.52]\n",
      " [792 'France' 'Female' ... 1 0 38190.78]]\n"
     ]
    }
   ],
   "source": [
    "print(x)"
   ],
   "metadata": {
    "collapsed": false,
    "pycharm": {
     "name": "#%%\n"
    }
   }
  },
  {
   "cell_type": "code",
   "execution_count": 53,
   "outputs": [
    {
     "name": "stdout",
     "output_type": "stream",
     "text": [
      "[1 0 1 ... 1 1 0]\n"
     ]
    }
   ],
   "source": [
    "print(y)"
   ],
   "metadata": {
    "collapsed": false,
    "pycharm": {
     "name": "#%%\n"
    }
   }
  },
  {
   "cell_type": "markdown",
   "source": [
    "## Encoding categorical data"
   ],
   "metadata": {
    "collapsed": false,
    "pycharm": {
     "name": "#%% md\n"
    }
   }
  },
  {
   "cell_type": "markdown",
   "source": [
    "### Label Encoding the \"Gender\" column"
   ],
   "metadata": {
    "collapsed": false,
    "pycharm": {
     "name": "#%% md\n"
    }
   }
  },
  {
   "cell_type": "code",
   "execution_count": 54,
   "outputs": [],
   "source": [
    "from sklearn.preprocessing import LabelEncoder\n",
    "le = LabelEncoder()\n",
    "x[:, 2] = le.fit_transform(x[:, 2])"
   ],
   "metadata": {
    "collapsed": false,
    "pycharm": {
     "name": "#%%\n"
    }
   }
  },
  {
   "cell_type": "code",
   "execution_count": 55,
   "outputs": [
    {
     "name": "stdout",
     "output_type": "stream",
     "text": [
      "[[619 'France' 0 ... 1 1 101348.88]\n",
      " [608 'Spain' 0 ... 0 1 112542.58]\n",
      " [502 'France' 0 ... 1 0 113931.57]\n",
      " ...\n",
      " [709 'France' 0 ... 0 1 42085.58]\n",
      " [772 'Germany' 1 ... 1 0 92888.52]\n",
      " [792 'France' 0 ... 1 0 38190.78]]\n"
     ]
    }
   ],
   "source": [
    "print(x)"
   ],
   "metadata": {
    "collapsed": false,
    "pycharm": {
     "name": "#%%\n"
    }
   }
  },
  {
   "cell_type": "markdown",
   "source": [
    "### One Hot Encoding the \"Geography\" column"
   ],
   "metadata": {
    "collapsed": false,
    "pycharm": {
     "name": "#%% md\n"
    }
   }
  },
  {
   "cell_type": "code",
   "execution_count": 56,
   "outputs": [],
   "source": [
    "from sklearn.compose import ColumnTransformer\n",
    "from sklearn.preprocessing import OneHotEncoder\n",
    "ct = ColumnTransformer(transformers=[('encoder', OneHotEncoder(), [1])], remainder='passthrough')\n",
    "x = np.array(ct.fit_transform(x))"
   ],
   "metadata": {
    "collapsed": false,
    "pycharm": {
     "name": "#%%\n"
    }
   }
  },
  {
   "cell_type": "code",
   "execution_count": 57,
   "outputs": [
    {
     "name": "stdout",
     "output_type": "stream",
     "text": [
      "[[1.0 0.0 0.0 ... 1 1 101348.88]\n",
      " [0.0 0.0 1.0 ... 0 1 112542.58]\n",
      " [1.0 0.0 0.0 ... 1 0 113931.57]\n",
      " ...\n",
      " [1.0 0.0 0.0 ... 0 1 42085.58]\n",
      " [0.0 1.0 0.0 ... 1 0 92888.52]\n",
      " [1.0 0.0 0.0 ... 1 0 38190.78]]\n"
     ]
    }
   ],
   "source": [
    "print(x)"
   ],
   "metadata": {
    "collapsed": false,
    "pycharm": {
     "name": "#%%\n"
    }
   }
  },
  {
   "cell_type": "markdown",
   "source": [
    "## Splitting the dataset into the Training set and Test set"
   ],
   "metadata": {
    "collapsed": false,
    "pycharm": {
     "name": "#%% md\n"
    }
   }
  },
  {
   "cell_type": "code",
   "execution_count": 58,
   "outputs": [],
   "source": [
    "from sklearn.model_selection import train_test_split\n",
    "xTrain, xTest, yTrain, yTest = train_test_split(x, y, test_size=0.2, random_state=0)"
   ],
   "metadata": {
    "collapsed": false,
    "pycharm": {
     "name": "#%%\n"
    }
   }
  },
  {
   "cell_type": "markdown",
   "source": [
    "## Feature Scaling"
   ],
   "metadata": {
    "collapsed": false,
    "pycharm": {
     "name": "#%% md\n"
    }
   }
  },
  {
   "cell_type": "code",
   "execution_count": 59,
   "outputs": [],
   "source": [
    "from sklearn.preprocessing import StandardScaler\n",
    "sc = StandardScaler()\n",
    "xTrain = sc.fit_transform(xTrain)\n",
    "xTest = sc.transform(xTest)"
   ],
   "metadata": {
    "collapsed": false,
    "pycharm": {
     "name": "#%%\n"
    }
   }
  },
  {
   "cell_type": "markdown",
   "source": [
    "# Part 2 - Building the ANN"
   ],
   "metadata": {
    "collapsed": false,
    "pycharm": {
     "name": "#%% md\n"
    }
   }
  },
  {
   "cell_type": "markdown",
   "source": [
    "## Initializing the ANN"
   ],
   "metadata": {
    "collapsed": false,
    "pycharm": {
     "name": "#%% md\n"
    }
   }
  },
  {
   "cell_type": "code",
   "execution_count": 60,
   "outputs": [],
   "source": [
    "ann = tf.keras.models.Sequential()"
   ],
   "metadata": {
    "collapsed": false,
    "pycharm": {
     "name": "#%%\n"
    }
   }
  },
  {
   "cell_type": "markdown",
   "source": [
    "## Adding the input layer and the first hidden layer"
   ],
   "metadata": {
    "collapsed": false,
    "pycharm": {
     "name": "#%% md\n"
    }
   }
  },
  {
   "cell_type": "code",
   "execution_count": 61,
   "outputs": [],
   "source": [
    "ann.add(tf.keras.layers.Dense(units=6, activation='relu'))"
   ],
   "metadata": {
    "collapsed": false,
    "pycharm": {
     "name": "#%%\n"
    }
   }
  },
  {
   "cell_type": "markdown",
   "source": [
    "## Adding the second hidden layer"
   ],
   "metadata": {
    "collapsed": false,
    "pycharm": {
     "name": "#%% md\n"
    }
   }
  },
  {
   "cell_type": "code",
   "execution_count": 62,
   "outputs": [],
   "source": [
    "ann.add(tf.keras.layers.Dense(units=6, activation='relu'))"
   ],
   "metadata": {
    "collapsed": false,
    "pycharm": {
     "name": "#%%\n"
    }
   }
  },
  {
   "cell_type": "markdown",
   "source": [
    "## Adding the output layer"
   ],
   "metadata": {
    "collapsed": false,
    "pycharm": {
     "name": "#%% md\n"
    }
   }
  },
  {
   "cell_type": "code",
   "execution_count": 63,
   "outputs": [],
   "source": [
    "ann.add(tf.keras.layers.Dense(units=1, activation='sigmoid'))"
   ],
   "metadata": {
    "collapsed": false,
    "pycharm": {
     "name": "#%%\n"
    }
   }
  },
  {
   "cell_type": "markdown",
   "source": [
    "# Part 3 - Training the ANN"
   ],
   "metadata": {
    "collapsed": false,
    "pycharm": {
     "name": "#%% md\n"
    }
   }
  },
  {
   "cell_type": "markdown",
   "source": [
    "## Compiling the ANN"
   ],
   "metadata": {
    "collapsed": false,
    "pycharm": {
     "name": "#%% md\n"
    }
   }
  },
  {
   "cell_type": "code",
   "execution_count": 64,
   "outputs": [],
   "source": [
    "ann.compile(optimizer='adam', loss='binary_crossentropy', metrics=['accuracy'])"
   ],
   "metadata": {
    "collapsed": false,
    "pycharm": {
     "name": "#%%\n"
    }
   }
  },
  {
   "cell_type": "markdown",
   "source": [
    "## Training the ANN on the Training set"
   ],
   "metadata": {
    "collapsed": false,
    "pycharm": {
     "name": "#%% md\n"
    }
   }
  },
  {
   "cell_type": "code",
   "execution_count": 65,
   "outputs": [
    {
     "name": "stdout",
     "output_type": "stream",
     "text": [
      "Epoch 1/100\n",
      "250/250 [==============================] - 1s 949us/step - loss: 0.5464 - accuracy: 0.7959\n",
      "Epoch 2/100\n",
      "250/250 [==============================] - 0s 695us/step - loss: 0.4668 - accuracy: 0.7961\n",
      "Epoch 3/100\n",
      "250/250 [==============================] - 0s 753us/step - loss: 0.4454 - accuracy: 0.7972\n",
      "Epoch 4/100\n",
      "250/250 [==============================] - 0s 816us/step - loss: 0.4341 - accuracy: 0.8030\n",
      "Epoch 5/100\n",
      "250/250 [==============================] - 0s 816us/step - loss: 0.4241 - accuracy: 0.8066\n",
      "Epoch 6/100\n",
      "250/250 [==============================] - 0s 753us/step - loss: 0.4126 - accuracy: 0.8115\n",
      "Epoch 7/100\n",
      "250/250 [==============================] - 0s 753us/step - loss: 0.3994 - accuracy: 0.8214\n",
      "Epoch 8/100\n",
      "250/250 [==============================] - 0s 753us/step - loss: 0.3871 - accuracy: 0.8329\n",
      "Epoch 9/100\n",
      "250/250 [==============================] - 0s 753us/step - loss: 0.3776 - accuracy: 0.8370\n",
      "Epoch 10/100\n",
      "250/250 [==============================] - 0s 690us/step - loss: 0.3712 - accuracy: 0.8407\n",
      "Epoch 11/100\n",
      "250/250 [==============================] - 0s 753us/step - loss: 0.3661 - accuracy: 0.8436\n",
      "Epoch 12/100\n",
      "250/250 [==============================] - 0s 818us/step - loss: 0.3631 - accuracy: 0.8440\n",
      "Epoch 13/100\n",
      "250/250 [==============================] - 0s 820us/step - loss: 0.3602 - accuracy: 0.8490\n",
      "Epoch 14/100\n",
      "250/250 [==============================] - 0s 885us/step - loss: 0.3586 - accuracy: 0.8497\n",
      "Epoch 15/100\n",
      "250/250 [==============================] - 0s 879us/step - loss: 0.3570 - accuracy: 0.8504\n",
      "Epoch 16/100\n",
      "250/250 [==============================] - 0s 878us/step - loss: 0.3558 - accuracy: 0.8522\n",
      "Epoch 17/100\n",
      "250/250 [==============================] - 0s 945us/step - loss: 0.3549 - accuracy: 0.8526\n",
      "Epoch 18/100\n",
      "250/250 [==============================] - 0s 816us/step - loss: 0.3536 - accuracy: 0.8536\n",
      "Epoch 19/100\n",
      "250/250 [==============================] - 0s 753us/step - loss: 0.3531 - accuracy: 0.8541\n",
      "Epoch 20/100\n",
      "250/250 [==============================] - 0s 879us/step - loss: 0.3523 - accuracy: 0.8544\n",
      "Epoch 21/100\n",
      "250/250 [==============================] - 0s 941us/step - loss: 0.3514 - accuracy: 0.8559\n",
      "Epoch 22/100\n",
      "250/250 [==============================] - 0s 878us/step - loss: 0.3507 - accuracy: 0.8569\n",
      "Epoch 23/100\n",
      "250/250 [==============================] - 0s 753us/step - loss: 0.3505 - accuracy: 0.8561\n",
      "Epoch 24/100\n",
      "250/250 [==============================] - 0s 816us/step - loss: 0.3498 - accuracy: 0.8572\n",
      "Epoch 25/100\n",
      "250/250 [==============================] - 0s 816us/step - loss: 0.3490 - accuracy: 0.8590\n",
      "Epoch 26/100\n",
      "250/250 [==============================] - 0s 951us/step - loss: 0.3486 - accuracy: 0.8577\n",
      "Epoch 27/100\n",
      "250/250 [==============================] - 0s 692us/step - loss: 0.3478 - accuracy: 0.8589\n",
      "Epoch 28/100\n",
      "250/250 [==============================] - 0s 753us/step - loss: 0.3480 - accuracy: 0.8571\n",
      "Epoch 29/100\n",
      "250/250 [==============================] - 0s 878us/step - loss: 0.3476 - accuracy: 0.8568\n",
      "Epoch 30/100\n",
      "250/250 [==============================] - 0s 757us/step - loss: 0.3472 - accuracy: 0.8577\n",
      "Epoch 31/100\n",
      "250/250 [==============================] - 0s 753us/step - loss: 0.3473 - accuracy: 0.8569\n",
      "Epoch 32/100\n",
      "250/250 [==============================] - 0s 823us/step - loss: 0.3470 - accuracy: 0.8579\n",
      "Epoch 33/100\n",
      "250/250 [==============================] - 0s 690us/step - loss: 0.3464 - accuracy: 0.8584\n",
      "Epoch 34/100\n",
      "250/250 [==============================] - 0s 690us/step - loss: 0.3463 - accuracy: 0.8560\n",
      "Epoch 35/100\n",
      "250/250 [==============================] - 0s 690us/step - loss: 0.3467 - accuracy: 0.8586\n",
      "Epoch 36/100\n",
      "250/250 [==============================] - 0s 753us/step - loss: 0.3461 - accuracy: 0.8583\n",
      "Epoch 37/100\n",
      "250/250 [==============================] - 0s 819us/step - loss: 0.3466 - accuracy: 0.8570\n",
      "Epoch 38/100\n",
      "250/250 [==============================] - 0s 690us/step - loss: 0.3460 - accuracy: 0.8584\n",
      "Epoch 39/100\n",
      "250/250 [==============================] - 0s 690us/step - loss: 0.3458 - accuracy: 0.8589\n",
      "Epoch 40/100\n",
      "250/250 [==============================] - 0s 627us/step - loss: 0.3454 - accuracy: 0.8586\n",
      "Epoch 41/100\n",
      "250/250 [==============================] - 0s 690us/step - loss: 0.3456 - accuracy: 0.8590\n",
      "Epoch 42/100\n",
      "250/250 [==============================] - 0s 753us/step - loss: 0.3452 - accuracy: 0.8585\n",
      "Epoch 43/100\n",
      "250/250 [==============================] - 0s 816us/step - loss: 0.3454 - accuracy: 0.8591\n",
      "Epoch 44/100\n",
      "250/250 [==============================] - 0s 820us/step - loss: 0.3454 - accuracy: 0.8585\n",
      "Epoch 45/100\n",
      "250/250 [==============================] - 0s 757us/step - loss: 0.3449 - accuracy: 0.8574\n",
      "Epoch 46/100\n",
      "250/250 [==============================] - 0s 690us/step - loss: 0.3449 - accuracy: 0.8589\n",
      "Epoch 47/100\n",
      "250/250 [==============================] - 0s 690us/step - loss: 0.3451 - accuracy: 0.8594\n",
      "Epoch 48/100\n",
      "250/250 [==============================] - 0s 816us/step - loss: 0.3446 - accuracy: 0.8583\n",
      "Epoch 49/100\n",
      "250/250 [==============================] - 0s 941us/step - loss: 0.3452 - accuracy: 0.8576\n",
      "Epoch 50/100\n",
      "250/250 [==============================] - 0s 945us/step - loss: 0.3450 - accuracy: 0.8579\n",
      "Epoch 51/100\n",
      "250/250 [==============================] - 0s 1ms/step - loss: 0.3450 - accuracy: 0.8576\n",
      "Epoch 52/100\n",
      "250/250 [==============================] - 0s 1ms/step - loss: 0.3447 - accuracy: 0.8580\n",
      "Epoch 53/100\n",
      "250/250 [==============================] - 0s 879us/step - loss: 0.3447 - accuracy: 0.8595\n",
      "Epoch 54/100\n",
      "250/250 [==============================] - 0s 816us/step - loss: 0.3446 - accuracy: 0.8584\n",
      "Epoch 55/100\n",
      "250/250 [==============================] - 0s 753us/step - loss: 0.3442 - accuracy: 0.8574\n",
      "Epoch 56/100\n",
      "250/250 [==============================] - 0s 948us/step - loss: 0.3442 - accuracy: 0.8591\n",
      "Epoch 57/100\n",
      "250/250 [==============================] - 0s 753us/step - loss: 0.3444 - accuracy: 0.8580\n",
      "Epoch 58/100\n",
      "250/250 [==============================] - 0s 816us/step - loss: 0.3444 - accuracy: 0.8581\n",
      "Epoch 59/100\n",
      "250/250 [==============================] - 0s 690us/step - loss: 0.3445 - accuracy: 0.8590\n",
      "Epoch 60/100\n",
      "250/250 [==============================] - 0s 753us/step - loss: 0.3440 - accuracy: 0.8591\n",
      "Epoch 61/100\n",
      "250/250 [==============================] - 0s 690us/step - loss: 0.3442 - accuracy: 0.8590\n",
      "Epoch 62/100\n",
      "250/250 [==============================] - 0s 690us/step - loss: 0.3443 - accuracy: 0.8579\n",
      "Epoch 63/100\n",
      "250/250 [==============================] - 0s 690us/step - loss: 0.3437 - accuracy: 0.8589\n",
      "Epoch 64/100\n",
      "250/250 [==============================] - 0s 753us/step - loss: 0.3442 - accuracy: 0.8574\n",
      "Epoch 65/100\n",
      "250/250 [==============================] - 0s 690us/step - loss: 0.3438 - accuracy: 0.8572\n",
      "Epoch 66/100\n",
      "250/250 [==============================] - 0s 690us/step - loss: 0.3441 - accuracy: 0.8594\n",
      "Epoch 67/100\n",
      "250/250 [==============================] - 0s 753us/step - loss: 0.3437 - accuracy: 0.8601\n",
      "Epoch 68/100\n",
      "250/250 [==============================] - 0s 945us/step - loss: 0.3441 - accuracy: 0.8587\n",
      "Epoch 69/100\n",
      "250/250 [==============================] - 0s 755us/step - loss: 0.3440 - accuracy: 0.8595\n",
      "Epoch 70/100\n",
      "250/250 [==============================] - 0s 878us/step - loss: 0.3438 - accuracy: 0.8609\n",
      "Epoch 71/100\n",
      "250/250 [==============================] - 0s 816us/step - loss: 0.3437 - accuracy: 0.8594\n",
      "Epoch 72/100\n",
      "250/250 [==============================] - 0s 816us/step - loss: 0.3438 - accuracy: 0.8605\n",
      "Epoch 73/100\n",
      "250/250 [==============================] - 0s 825us/step - loss: 0.3436 - accuracy: 0.8601\n",
      "Epoch 74/100\n",
      "250/250 [==============================] - 0s 816us/step - loss: 0.3436 - accuracy: 0.8609\n",
      "Epoch 75/100\n",
      "250/250 [==============================] - 0s 763us/step - loss: 0.3440 - accuracy: 0.8608\n",
      "Epoch 76/100\n",
      "250/250 [==============================] - 0s 826us/step - loss: 0.3436 - accuracy: 0.8590\n",
      "Epoch 77/100\n",
      "250/250 [==============================] - 0s 815us/step - loss: 0.3435 - accuracy: 0.8605\n",
      "Epoch 78/100\n",
      "250/250 [==============================] - 0s 816us/step - loss: 0.3439 - accuracy: 0.8584\n",
      "Epoch 79/100\n",
      "250/250 [==============================] - 0s 690us/step - loss: 0.3431 - accuracy: 0.8599\n",
      "Epoch 80/100\n",
      "250/250 [==============================] - 0s 690us/step - loss: 0.3439 - accuracy: 0.8587\n",
      "Epoch 81/100\n",
      "250/250 [==============================] - 0s 690us/step - loss: 0.3442 - accuracy: 0.8599\n",
      "Epoch 82/100\n",
      "250/250 [==============================] - 0s 690us/step - loss: 0.3430 - accuracy: 0.8606\n",
      "Epoch 83/100\n",
      "250/250 [==============================] - 0s 941us/step - loss: 0.3431 - accuracy: 0.8597\n",
      "Epoch 84/100\n",
      "250/250 [==============================] - 0s 878us/step - loss: 0.3432 - accuracy: 0.8599\n",
      "Epoch 85/100\n",
      "250/250 [==============================] - 0s 884us/step - loss: 0.3426 - accuracy: 0.8590\n",
      "Epoch 86/100\n",
      "250/250 [==============================] - 0s 941us/step - loss: 0.3427 - accuracy: 0.8602\n",
      "Epoch 87/100\n",
      "250/250 [==============================] - 0s 878us/step - loss: 0.3426 - accuracy: 0.8594\n",
      "Epoch 88/100\n",
      "250/250 [==============================] - 0s 816us/step - loss: 0.3429 - accuracy: 0.8596\n",
      "Epoch 89/100\n",
      "250/250 [==============================] - 0s 816us/step - loss: 0.3422 - accuracy: 0.8599\n",
      "Epoch 90/100\n",
      "250/250 [==============================] - 0s 816us/step - loss: 0.3431 - accuracy: 0.8610\n",
      "Epoch 91/100\n",
      "250/250 [==============================] - 0s 941us/step - loss: 0.3425 - accuracy: 0.8604\n",
      "Epoch 92/100\n",
      "250/250 [==============================] - 0s 755us/step - loss: 0.3430 - accuracy: 0.8601\n",
      "Epoch 93/100\n",
      "250/250 [==============================] - 0s 694us/step - loss: 0.3426 - accuracy: 0.8610\n",
      "Epoch 94/100\n",
      "250/250 [==============================] - 0s 690us/step - loss: 0.3426 - accuracy: 0.8620\n",
      "Epoch 95/100\n",
      "250/250 [==============================] - 0s 690us/step - loss: 0.3426 - accuracy: 0.8621\n",
      "Epoch 96/100\n",
      "250/250 [==============================] - 0s 690us/step - loss: 0.3426 - accuracy: 0.8594\n",
      "Epoch 97/100\n",
      "250/250 [==============================] - 0s 753us/step - loss: 0.3426 - accuracy: 0.8599\n",
      "Epoch 98/100\n",
      "250/250 [==============================] - 0s 756us/step - loss: 0.3424 - accuracy: 0.8620\n",
      "Epoch 99/100\n",
      "250/250 [==============================] - 0s 753us/step - loss: 0.3422 - accuracy: 0.8597\n",
      "Epoch 100/100\n",
      "250/250 [==============================] - 0s 816us/step - loss: 0.3422 - accuracy: 0.8616\n"
     ]
    },
    {
     "data": {
      "text/plain": "<keras.src.callbacks.History at 0x11214591490>"
     },
     "execution_count": 65,
     "metadata": {},
     "output_type": "execute_result"
    }
   ],
   "source": [
    "ann.fit(xTrain, yTrain, batch_size=32, epochs=100)"
   ],
   "metadata": {
    "collapsed": false,
    "pycharm": {
     "name": "#%%\n"
    }
   }
  },
  {
   "cell_type": "markdown",
   "source": [
    "# Part 4 - Making the predictions and evaluating the model"
   ],
   "metadata": {
    "collapsed": false,
    "pycharm": {
     "name": "#%% md\n"
    }
   }
  },
  {
   "cell_type": "markdown",
   "source": [
    "## Predicting the result of a single observation"
   ],
   "metadata": {
    "collapsed": false,
    "pycharm": {
     "name": "#%% md\n"
    }
   }
  },
  {
   "cell_type": "markdown",
   "source": [
    "**Homework**\n",
    "\n",
    "Use our ANN model to predict if the customer with the following informations will leave the bank:\n",
    "\n",
    "Geography: France\n",
    "\n",
    "Credit Score: 600\n",
    "\n",
    "Gender: Male\n",
    "\n",
    "Age: 40 years old\n",
    "\n",
    "Tenure: 3 years\n",
    "\n",
    "Balance: \\$ 60000\n",
    "\n",
    "Number of Products: 2\n",
    "\n",
    "Does this customer have a credit card ? Yes\n",
    "\n",
    "Is this customer an Active Member: Yes\n",
    "\n",
    "Estimated Salary: \\$ 50000\n",
    "\n",
    "So, should we say goodbye to that customer ?"
   ],
   "metadata": {
    "collapsed": false,
    "pycharm": {
     "name": "#%% md\n"
    }
   }
  },
  {
   "cell_type": "markdown",
   "source": [
    "**Solution**"
   ],
   "metadata": {
    "collapsed": false,
    "pycharm": {
     "name": "#%% md\n"
    }
   }
  },
  {
   "cell_type": "code",
   "execution_count": 66,
   "outputs": [
    {
     "name": "stdout",
     "output_type": "stream",
     "text": [
      "France\n",
      "1/1 [==============================] - 0s 63ms/step\n",
      "[[False]]\n",
      "1/1 [==============================] - 0s 16ms/step\n",
      "[[0.02812536]]\n"
     ]
    }
   ],
   "source": [
    "tt = [[600, 'France', 'Male', 40, 3, 60000, 2, 1, 1, 50000]]\n",
    "print(tt[0][1])\n",
    "tt[0][2] = le.transform([tt[0][2]])\n",
    "tt = np.array(ct.transform(tt))\n",
    "tt = sc.transform(tt)\n",
    "print(ann.predict(tt) > 0.5)\n",
    "print(ann.predict(tt))"
   ],
   "metadata": {
    "collapsed": false,
    "pycharm": {
     "name": "#%%\n"
    }
   }
  },
  {
   "cell_type": "code",
   "execution_count": 67,
   "outputs": [
    {
     "name": "stdout",
     "output_type": "stream",
     "text": [
      "1/1 [==============================] - 0s 16ms/step\n",
      "[[False]]\n",
      "1/1 [==============================] - 0s 16ms/step\n",
      "[[0.02812536]]\n"
     ]
    }
   ],
   "source": [
    "print(ann.predict(sc.transform([[1, 0, 0, 600, 1, 40, 3, 60000, 2, 1, 1, 50000]])) > 0.5)\n",
    "print(ann.predict(sc.transform([[1, 0, 0, 600, 1, 40, 3, 60000, 2, 1, 1, 50000]])))"
   ],
   "metadata": {
    "collapsed": false,
    "pycharm": {
     "name": "#%%\n"
    }
   }
  },
  {
   "cell_type": "markdown",
   "source": [
    "Therefore, our ANN model predicts that this customer stays in the bank!\n",
    "\n",
    "**Important note 1:** Notice that the values of the features were all input in a double pair of square brackets. That's because the \"predict\" method always expects a 2D array as the format of its inputs. And putting our values into a double pair of square brackets makes the input exactly a 2D array.\n",
    "\n",
    "**Important note 2:** Notice also that the \"France\" country was not input as a string in the last column but as \"1, 0, 0\" in the first three columns. That's because of course the predict method expects the one-hot-encoded values of the state, and as we see in the first row of the matrix of features X, \"France\" was encoded as \"1, 0, 0\". And be careful to include these values in the first three columns, because the dummy variables are always created in the first columns."
   ],
   "metadata": {
    "collapsed": false,
    "pycharm": {
     "name": "#%% md\n"
    }
   }
  },
  {
   "cell_type": "markdown",
   "source": [
    "## Predicting the Test set results"
   ],
   "metadata": {
    "collapsed": false,
    "pycharm": {
     "name": "#%% md\n"
    }
   }
  },
  {
   "cell_type": "code",
   "execution_count": 68,
   "outputs": [
    {
     "name": "stdout",
     "output_type": "stream",
     "text": [
      "63/63 [==============================] - 0s 755us/step\n",
      "[[0 0]\n",
      " [0 1]\n",
      " [0 0]\n",
      " ...\n",
      " [0 0]\n",
      " [0 0]\n",
      " [0 0]]\n"
     ]
    }
   ],
   "source": [
    "yPred = ann.predict(xTest)\n",
    "yPred = (yPred > 0.5)\n",
    "print(np.concatenate((yPred.reshape(len(yPred), 1), yTest.reshape(len(yTest), 1)), 1))"
   ],
   "metadata": {
    "collapsed": false,
    "pycharm": {
     "name": "#%%\n"
    }
   }
  },
  {
   "cell_type": "markdown",
   "source": [
    "## Making the Confusion Matrix"
   ],
   "metadata": {
    "collapsed": false,
    "pycharm": {
     "name": "#%% md\n"
    }
   }
  },
  {
   "cell_type": "code",
   "execution_count": 69,
   "outputs": [
    {
     "name": "stdout",
     "output_type": "stream",
     "text": [
      "[[1530   65]\n",
      " [ 206  199]]\n"
     ]
    },
    {
     "data": {
      "text/plain": "0.8645"
     },
     "execution_count": 69,
     "metadata": {},
     "output_type": "execute_result"
    }
   ],
   "source": [
    "from sklearn.metrics import confusion_matrix, accuracy_score\n",
    "cm = confusion_matrix(yTest, yPred)\n",
    "print(cm)\n",
    "accuracy_score(yTest, yPred)"
   ],
   "metadata": {
    "collapsed": false,
    "pycharm": {
     "name": "#%%\n"
    }
   }
  }
 ],
 "metadata": {
  "kernelspec": {
   "display_name": "Python 3",
   "language": "python",
   "name": "python3"
  },
  "language_info": {
   "codemirror_mode": {
    "name": "ipython",
    "version": 2
   },
   "file_extension": ".py",
   "mimetype": "text/x-python",
   "name": "python",
   "nbconvert_exporter": "python",
   "pygments_lexer": "ipython2",
   "version": "2.7.6"
  }
 },
 "nbformat": 4,
 "nbformat_minor": 0
}