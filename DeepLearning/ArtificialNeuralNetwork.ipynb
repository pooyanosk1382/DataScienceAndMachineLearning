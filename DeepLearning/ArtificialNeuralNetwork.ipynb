{
 "cells": [
  {
   "cell_type": "markdown",
   "source": [
    "# Artificial Neural Network"
   ],
   "metadata": {
    "collapsed": false,
    "pycharm": {
     "name": "#%% md\n"
    }
   }
  },
  {
   "cell_type": "markdown",
   "source": [
    "## Import libraries"
   ],
   "metadata": {
    "collapsed": false,
    "pycharm": {
     "name": "#%% md\n"
    }
   }
  },
  {
   "cell_type": "code",
   "execution_count": 1,
   "outputs": [],
   "source": [
    "import numpy as np\n",
    "import pandas as pd\n",
    "import tensorflow as tf"
   ],
   "metadata": {
    "collapsed": false,
    "pycharm": {
     "name": "#%%\n"
    }
   }
  },
  {
   "cell_type": "code",
   "execution_count": 2,
   "outputs": [
    {
     "data": {
      "text/plain": "'2.13.0'"
     },
     "execution_count": 2,
     "metadata": {},
     "output_type": "execute_result"
    }
   ],
   "source": [
    "tf.__version__"
   ],
   "metadata": {
    "collapsed": false,
    "pycharm": {
     "name": "#%%\n"
    }
   }
  },
  {
   "cell_type": "markdown",
   "source": [
    "# Part 1 - Data Preprocessing"
   ],
   "metadata": {
    "collapsed": false,
    "pycharm": {
     "name": "#%% md\n"
    }
   }
  },
  {
   "cell_type": "markdown",
   "source": [
    "## Import the dataset"
   ],
   "metadata": {
    "collapsed": false,
    "pycharm": {
     "name": "#%% md\n"
    }
   }
  },
  {
   "cell_type": "code",
   "execution_count": 3,
   "outputs": [],
   "source": [
    "dataset = pd.read_csv('Churn_Modelling.csv')\n",
    "x = dataset.iloc[:, 3:-1].values\n",
    "y = dataset.iloc[:,   -1].values"
   ],
   "metadata": {
    "collapsed": false,
    "pycharm": {
     "name": "#%%\n"
    }
   }
  },
  {
   "cell_type": "code",
   "execution_count": 4,
   "outputs": [
    {
     "name": "stdout",
     "output_type": "stream",
     "text": [
      "[[619 'France' 'Female' ... 1 1 101348.88]\n",
      " [608 'Spain' 'Female' ... 0 1 112542.58]\n",
      " [502 'France' 'Female' ... 1 0 113931.57]\n",
      " ...\n",
      " [709 'France' 'Female' ... 0 1 42085.58]\n",
      " [772 'Germany' 'Male' ... 1 0 92888.52]\n",
      " [792 'France' 'Female' ... 1 0 38190.78]]\n"
     ]
    }
   ],
   "source": [
    "print(x)"
   ],
   "metadata": {
    "collapsed": false,
    "pycharm": {
     "name": "#%%\n"
    }
   }
  },
  {
   "cell_type": "code",
   "execution_count": 5,
   "outputs": [
    {
     "name": "stdout",
     "output_type": "stream",
     "text": [
      "[1 0 1 ... 1 1 0]\n"
     ]
    }
   ],
   "source": [
    "print(y)"
   ],
   "metadata": {
    "collapsed": false,
    "pycharm": {
     "name": "#%%\n"
    }
   }
  },
  {
   "cell_type": "markdown",
   "source": [
    "## Encoding categorical data"
   ],
   "metadata": {
    "collapsed": false,
    "pycharm": {
     "name": "#%% md\n"
    }
   }
  },
  {
   "cell_type": "markdown",
   "source": [
    "### Label Encoding the \"Gender\" column"
   ],
   "metadata": {
    "collapsed": false,
    "pycharm": {
     "name": "#%% md\n"
    }
   }
  },
  {
   "cell_type": "code",
   "execution_count": 6,
   "outputs": [],
   "source": [
    "from sklearn.preprocessing import LabelEncoder\n",
    "le = LabelEncoder()\n",
    "x[:, 2] = le.fit_transform(x[:, 2])"
   ],
   "metadata": {
    "collapsed": false,
    "pycharm": {
     "name": "#%%\n"
    }
   }
  },
  {
   "cell_type": "code",
   "execution_count": 7,
   "outputs": [
    {
     "name": "stdout",
     "output_type": "stream",
     "text": [
      "[[619 'France' 0 ... 1 1 101348.88]\n",
      " [608 'Spain' 0 ... 0 1 112542.58]\n",
      " [502 'France' 0 ... 1 0 113931.57]\n",
      " ...\n",
      " [709 'France' 0 ... 0 1 42085.58]\n",
      " [772 'Germany' 1 ... 1 0 92888.52]\n",
      " [792 'France' 0 ... 1 0 38190.78]]\n"
     ]
    }
   ],
   "source": [
    "print(x)"
   ],
   "metadata": {
    "collapsed": false,
    "pycharm": {
     "name": "#%%\n"
    }
   }
  },
  {
   "cell_type": "markdown",
   "source": [
    "### One Hot Encoding the \"Geography\" column"
   ],
   "metadata": {
    "collapsed": false,
    "pycharm": {
     "name": "#%% md\n"
    }
   }
  },
  {
   "cell_type": "code",
   "execution_count": 8,
   "outputs": [],
   "source": [
    "from sklearn.compose import ColumnTransformer\n",
    "from sklearn.preprocessing import OneHotEncoder\n",
    "ct = ColumnTransformer(transformers=[('encoder', OneHotEncoder(), [1])], remainder='passthrough')\n",
    "x = np.array(ct.fit_transform(x))"
   ],
   "metadata": {
    "collapsed": false,
    "pycharm": {
     "name": "#%%\n"
    }
   }
  },
  {
   "cell_type": "code",
   "execution_count": 9,
   "outputs": [
    {
     "name": "stdout",
     "output_type": "stream",
     "text": [
      "[[1.0 0.0 0.0 ... 1 1 101348.88]\n",
      " [0.0 0.0 1.0 ... 0 1 112542.58]\n",
      " [1.0 0.0 0.0 ... 1 0 113931.57]\n",
      " ...\n",
      " [1.0 0.0 0.0 ... 0 1 42085.58]\n",
      " [0.0 1.0 0.0 ... 1 0 92888.52]\n",
      " [1.0 0.0 0.0 ... 1 0 38190.78]]\n"
     ]
    }
   ],
   "source": [
    "print(x)"
   ],
   "metadata": {
    "collapsed": false,
    "pycharm": {
     "name": "#%%\n"
    }
   }
  },
  {
   "cell_type": "markdown",
   "source": [
    "## Splitting the dataset into the Training set and Test set"
   ],
   "metadata": {
    "collapsed": false,
    "pycharm": {
     "name": "#%% md\n"
    }
   }
  },
  {
   "cell_type": "code",
   "execution_count": 10,
   "outputs": [],
   "source": [
    "from sklearn.model_selection import train_test_split\n",
    "xTrain, xTest, yTrain, yTest = train_test_split(x, y, test_size=0.2, random_state=0)"
   ],
   "metadata": {
    "collapsed": false,
    "pycharm": {
     "name": "#%%\n"
    }
   }
  },
  {
   "cell_type": "markdown",
   "source": [
    "## Feature Scaling"
   ],
   "metadata": {
    "collapsed": false,
    "pycharm": {
     "name": "#%% md\n"
    }
   }
  },
  {
   "cell_type": "code",
   "execution_count": 11,
   "outputs": [],
   "source": [
    "from sklearn.preprocessing import StandardScaler\n",
    "sc = StandardScaler()\n",
    "xTrain = sc.fit_transform(xTrain)\n",
    "xTest = sc.transform(xTest)"
   ],
   "metadata": {
    "collapsed": false,
    "pycharm": {
     "name": "#%%\n"
    }
   }
  },
  {
   "cell_type": "markdown",
   "source": [
    "# Part 2 - Building the ANN"
   ],
   "metadata": {
    "collapsed": false,
    "pycharm": {
     "name": "#%% md\n"
    }
   }
  },
  {
   "cell_type": "markdown",
   "source": [
    "## Initializing the ANN"
   ],
   "metadata": {
    "collapsed": false,
    "pycharm": {
     "name": "#%% md\n"
    }
   }
  },
  {
   "cell_type": "code",
   "execution_count": 12,
   "outputs": [],
   "source": [
    "ann = tf.keras.models.Sequential()"
   ],
   "metadata": {
    "collapsed": false,
    "pycharm": {
     "name": "#%%\n"
    }
   }
  },
  {
   "cell_type": "markdown",
   "source": [
    "## Adding the input layer and the first hidden layer"
   ],
   "metadata": {
    "collapsed": false,
    "pycharm": {
     "name": "#%% md\n"
    }
   }
  },
  {
   "cell_type": "code",
   "execution_count": 13,
   "outputs": [],
   "source": [
    "ann.add(tf.keras.layers.Dense(units=6, activation='relu'))"
   ],
   "metadata": {
    "collapsed": false,
    "pycharm": {
     "name": "#%%\n"
    }
   }
  },
  {
   "cell_type": "markdown",
   "source": [
    "## Adding the second hidden layer"
   ],
   "metadata": {
    "collapsed": false,
    "pycharm": {
     "name": "#%% md\n"
    }
   }
  },
  {
   "cell_type": "code",
   "execution_count": 14,
   "outputs": [],
   "source": [
    "ann.add(tf.keras.layers.Dense(units=6, activation='relu'))"
   ],
   "metadata": {
    "collapsed": false,
    "pycharm": {
     "name": "#%%\n"
    }
   }
  },
  {
   "cell_type": "markdown",
   "source": [
    "## Adding the output layer"
   ],
   "metadata": {
    "collapsed": false,
    "pycharm": {
     "name": "#%% md\n"
    }
   }
  },
  {
   "cell_type": "code",
   "execution_count": 15,
   "outputs": [],
   "source": [
    "ann.add(tf.keras.layers.Dense(units=1, activation='sigmoid'))"
   ],
   "metadata": {
    "collapsed": false,
    "pycharm": {
     "name": "#%%\n"
    }
   }
  },
  {
   "cell_type": "markdown",
   "source": [
    "# Part 3 - Training the ANN"
   ],
   "metadata": {
    "collapsed": false,
    "pycharm": {
     "name": "#%% md\n"
    }
   }
  },
  {
   "cell_type": "markdown",
   "source": [
    "## Compiling the ANN"
   ],
   "metadata": {
    "collapsed": false,
    "pycharm": {
     "name": "#%% md\n"
    }
   }
  },
  {
   "cell_type": "code",
   "execution_count": 16,
   "outputs": [],
   "source": [
    "ann.compile(optimizer='adam', loss='binary_crossentropy', metrics=['accuracy'])"
   ],
   "metadata": {
    "collapsed": false,
    "pycharm": {
     "name": "#%%\n"
    }
   }
  },
  {
   "cell_type": "markdown",
   "source": [
    "## Training the ANN on the Training set"
   ],
   "metadata": {
    "collapsed": false,
    "pycharm": {
     "name": "#%% md\n"
    }
   }
  },
  {
   "cell_type": "code",
   "execution_count": 17,
   "outputs": [
    {
     "name": "stdout",
     "output_type": "stream",
     "text": [
      "[[-1.01460667 -0.5698444   1.74309049 ...  0.64259497 -1.03227043\n",
      "   1.10643166]\n",
      " [-1.01460667  1.75486502 -0.57369368 ...  0.64259497  0.9687384\n",
      "  -0.74866447]\n",
      " [ 0.98560362 -0.5698444  -0.57369368 ...  0.64259497 -1.03227043\n",
      "   1.48533467]\n",
      " ...\n",
      " [ 0.98560362 -0.5698444  -0.57369368 ...  0.64259497 -1.03227043\n",
      "   1.41231994]\n",
      " [-1.01460667 -0.5698444   1.74309049 ...  0.64259497  0.9687384\n",
      "   0.84432121]\n",
      " [-1.01460667  1.75486502 -0.57369368 ...  0.64259497 -1.03227043\n",
      "   0.32472465]]\n",
      "[0 0 0 ... 0 0 1]\n"
     ]
    }
   ],
   "source": [
    "print(xTrain)\n",
    "print(yTrain)"
   ],
   "metadata": {
    "collapsed": false,
    "pycharm": {
     "name": "#%%\n"
    }
   }
  },
  {
   "cell_type": "code",
   "execution_count": 18,
   "outputs": [
    {
     "name": "stdout",
     "output_type": "stream",
     "text": [
      "Epoch 1/100\n",
      "250/250 [==============================] - 1s 1ms/step - loss: 0.5713 - accuracy: 0.7435\n",
      "Epoch 2/100\n",
      "250/250 [==============================] - 0s 1ms/step - loss: 0.4612 - accuracy: 0.8027\n",
      "Epoch 3/100\n",
      "250/250 [==============================] - 0s 1ms/step - loss: 0.4292 - accuracy: 0.8142\n",
      "Epoch 4/100\n",
      "250/250 [==============================] - 0s 887us/step - loss: 0.4139 - accuracy: 0.8181\n",
      "Epoch 5/100\n",
      "250/250 [==============================] - 0s 951us/step - loss: 0.4025 - accuracy: 0.8204\n",
      "Epoch 6/100\n",
      "250/250 [==============================] - 0s 1ms/step - loss: 0.3918 - accuracy: 0.8234\n",
      "Epoch 7/100\n",
      "250/250 [==============================] - 0s 1ms/step - loss: 0.3802 - accuracy: 0.8340\n",
      "Epoch 8/100\n",
      "250/250 [==============================] - 0s 1ms/step - loss: 0.3699 - accuracy: 0.8444\n",
      "Epoch 9/100\n",
      "250/250 [==============================] - 0s 823us/step - loss: 0.3617 - accuracy: 0.8503\n",
      "Epoch 10/100\n",
      "250/250 [==============================] - 0s 759us/step - loss: 0.3556 - accuracy: 0.8541\n",
      "Epoch 11/100\n",
      "250/250 [==============================] - 0s 757us/step - loss: 0.3516 - accuracy: 0.8566\n",
      "Epoch 12/100\n",
      "250/250 [==============================] - 0s 756us/step - loss: 0.3486 - accuracy: 0.8580\n",
      "Epoch 13/100\n",
      "250/250 [==============================] - 0s 694us/step - loss: 0.3465 - accuracy: 0.8602\n",
      "Epoch 14/100\n",
      "250/250 [==============================] - 0s 819us/step - loss: 0.3451 - accuracy: 0.8601\n",
      "Epoch 15/100\n",
      "250/250 [==============================] - 0s 1ms/step - loss: 0.3443 - accuracy: 0.8604\n",
      "Epoch 16/100\n",
      "250/250 [==============================] - 0s 763us/step - loss: 0.3432 - accuracy: 0.8619\n",
      "Epoch 17/100\n",
      "250/250 [==============================] - 0s 765us/step - loss: 0.3422 - accuracy: 0.8605\n",
      "Epoch 18/100\n",
      "250/250 [==============================] - 0s 760us/step - loss: 0.3418 - accuracy: 0.8614\n",
      "Epoch 19/100\n",
      "250/250 [==============================] - 0s 756us/step - loss: 0.3412 - accuracy: 0.8601\n",
      "Epoch 20/100\n",
      "250/250 [==============================] - 0s 819us/step - loss: 0.3406 - accuracy: 0.8619\n",
      "Epoch 21/100\n",
      "250/250 [==============================] - 0s 691us/step - loss: 0.3404 - accuracy: 0.8614\n",
      "Epoch 22/100\n",
      "250/250 [==============================] - 0s 693us/step - loss: 0.3399 - accuracy: 0.8600\n",
      "Epoch 23/100\n",
      "250/250 [==============================] - 0s 756us/step - loss: 0.3393 - accuracy: 0.8619\n",
      "Epoch 24/100\n",
      "250/250 [==============================] - 0s 827us/step - loss: 0.3394 - accuracy: 0.8619\n",
      "Epoch 25/100\n",
      "250/250 [==============================] - 0s 880us/step - loss: 0.3390 - accuracy: 0.8619\n",
      "Epoch 26/100\n",
      "250/250 [==============================] - 0s 820us/step - loss: 0.3386 - accuracy: 0.8618\n",
      "Epoch 27/100\n",
      "250/250 [==============================] - 0s 756us/step - loss: 0.3381 - accuracy: 0.8604\n",
      "Epoch 28/100\n",
      "250/250 [==============================] - 0s 756us/step - loss: 0.3384 - accuracy: 0.8616\n",
      "Epoch 29/100\n",
      "250/250 [==============================] - 0s 820us/step - loss: 0.3377 - accuracy: 0.8626\n",
      "Epoch 30/100\n",
      "250/250 [==============================] - 0s 882us/step - loss: 0.3377 - accuracy: 0.8616\n",
      "Epoch 31/100\n",
      "250/250 [==============================] - 0s 1ms/step - loss: 0.3371 - accuracy: 0.8630\n",
      "Epoch 32/100\n",
      "250/250 [==============================] - 0s 1ms/step - loss: 0.3365 - accuracy: 0.8646\n",
      "Epoch 33/100\n",
      "250/250 [==============================] - 0s 1ms/step - loss: 0.3365 - accuracy: 0.8629\n",
      "Epoch 34/100\n",
      "250/250 [==============================] - 0s 1000us/step - loss: 0.3358 - accuracy: 0.8637\n",
      "Epoch 35/100\n",
      "250/250 [==============================] - 0s 891us/step - loss: 0.3358 - accuracy: 0.8640\n",
      "Epoch 36/100\n",
      "250/250 [==============================] - 0s 824us/step - loss: 0.3360 - accuracy: 0.8631\n",
      "Epoch 37/100\n",
      "250/250 [==============================] - 0s 1ms/step - loss: 0.3356 - accuracy: 0.8637\n",
      "Epoch 38/100\n",
      "250/250 [==============================] - 0s 955us/step - loss: 0.3354 - accuracy: 0.8636\n",
      "Epoch 39/100\n",
      "250/250 [==============================] - 0s 948us/step - loss: 0.3354 - accuracy: 0.8646\n",
      "Epoch 40/100\n",
      "250/250 [==============================] - 0s 819us/step - loss: 0.3351 - accuracy: 0.8635\n",
      "Epoch 41/100\n",
      "250/250 [==============================] - 0s 754us/step - loss: 0.3352 - accuracy: 0.8656\n",
      "Epoch 42/100\n",
      "250/250 [==============================] - 0s 756us/step - loss: 0.3351 - accuracy: 0.8633\n",
      "Epoch 43/100\n",
      "250/250 [==============================] - 0s 756us/step - loss: 0.3348 - accuracy: 0.8637\n",
      "Epoch 44/100\n",
      "250/250 [==============================] - 0s 756us/step - loss: 0.3343 - accuracy: 0.8636\n",
      "Epoch 45/100\n",
      "250/250 [==============================] - 0s 692us/step - loss: 0.3342 - accuracy: 0.8643\n",
      "Epoch 46/100\n",
      "250/250 [==============================] - 0s 819us/step - loss: 0.3338 - accuracy: 0.8651\n",
      "Epoch 47/100\n",
      "250/250 [==============================] - 0s 1ms/step - loss: 0.3337 - accuracy: 0.8648\n",
      "Epoch 48/100\n",
      "250/250 [==============================] - 0s 760us/step - loss: 0.3336 - accuracy: 0.8651\n",
      "Epoch 49/100\n",
      "250/250 [==============================] - 0s 819us/step - loss: 0.3333 - accuracy: 0.8646\n",
      "Epoch 50/100\n",
      "250/250 [==============================] - 0s 693us/step - loss: 0.3328 - accuracy: 0.8646\n",
      "Epoch 51/100\n",
      "250/250 [==============================] - 0s 759us/step - loss: 0.3325 - accuracy: 0.8659\n",
      "Epoch 52/100\n",
      "250/250 [==============================] - 0s 689us/step - loss: 0.3330 - accuracy: 0.8655\n",
      "Epoch 53/100\n",
      "250/250 [==============================] - 0s 821us/step - loss: 0.3326 - accuracy: 0.8658\n",
      "Epoch 54/100\n",
      "250/250 [==============================] - 0s 952us/step - loss: 0.3322 - accuracy: 0.8665\n",
      "Epoch 55/100\n",
      "250/250 [==============================] - 0s 829us/step - loss: 0.3322 - accuracy: 0.8662\n",
      "Epoch 56/100\n",
      "250/250 [==============================] - 0s 825us/step - loss: 0.3320 - accuracy: 0.8665\n",
      "Epoch 57/100\n",
      "250/250 [==============================] - 0s 948us/step - loss: 0.3314 - accuracy: 0.8662\n",
      "Epoch 58/100\n",
      "250/250 [==============================] - 0s 1ms/step - loss: 0.3315 - accuracy: 0.8664\n",
      "Epoch 59/100\n",
      "250/250 [==============================] - 0s 1ms/step - loss: 0.3314 - accuracy: 0.8661\n",
      "Epoch 60/100\n",
      "250/250 [==============================] - 0s 827us/step - loss: 0.3311 - accuracy: 0.8669\n",
      "Epoch 61/100\n",
      "250/250 [==============================] - 0s 804us/step - loss: 0.3311 - accuracy: 0.8664\n",
      "Epoch 62/100\n",
      "250/250 [==============================] - 0s 768us/step - loss: 0.3306 - accuracy: 0.8661\n",
      "Epoch 63/100\n",
      "250/250 [==============================] - 0s 760us/step - loss: 0.3307 - accuracy: 0.8659\n",
      "Epoch 64/100\n",
      "250/250 [==============================] - 0s 884us/step - loss: 0.3303 - accuracy: 0.8659\n",
      "Epoch 65/100\n",
      "250/250 [==============================] - 0s 889us/step - loss: 0.3300 - accuracy: 0.8680\n",
      "Epoch 66/100\n",
      "250/250 [==============================] - 0s 1ms/step - loss: 0.3303 - accuracy: 0.8658\n",
      "Epoch 67/100\n",
      "250/250 [==============================] - 0s 1ms/step - loss: 0.3299 - accuracy: 0.8665\n",
      "Epoch 68/100\n",
      "250/250 [==============================] - 0s 1ms/step - loss: 0.3301 - accuracy: 0.8668\n",
      "Epoch 69/100\n",
      "250/250 [==============================] - 0s 1ms/step - loss: 0.3299 - accuracy: 0.8652\n",
      "Epoch 70/100\n",
      "250/250 [==============================] - 0s 1ms/step - loss: 0.3296 - accuracy: 0.8656\n",
      "Epoch 71/100\n",
      "250/250 [==============================] - 0s 1ms/step - loss: 0.3300 - accuracy: 0.8659\n",
      "Epoch 72/100\n",
      "250/250 [==============================] - 0s 746us/step - loss: 0.3295 - accuracy: 0.8669\n",
      "Epoch 73/100\n",
      "250/250 [==============================] - 0s 756us/step - loss: 0.3293 - accuracy: 0.8670\n",
      "Epoch 74/100\n",
      "250/250 [==============================] - 0s 912us/step - loss: 0.3295 - accuracy: 0.8670\n",
      "Epoch 75/100\n",
      "250/250 [==============================] - 0s 805us/step - loss: 0.3295 - accuracy: 0.8677\n",
      "Epoch 76/100\n",
      "250/250 [==============================] - 0s 740us/step - loss: 0.3288 - accuracy: 0.8662\n",
      "Epoch 77/100\n",
      "250/250 [==============================] - 0s 694us/step - loss: 0.3294 - accuracy: 0.8664\n",
      "Epoch 78/100\n",
      "250/250 [==============================] - 0s 756us/step - loss: 0.3293 - accuracy: 0.8669\n",
      "Epoch 79/100\n",
      "250/250 [==============================] - 0s 947us/step - loss: 0.3292 - accuracy: 0.8674\n",
      "Epoch 80/100\n",
      "250/250 [==============================] - 0s 763us/step - loss: 0.3286 - accuracy: 0.8661\n",
      "Epoch 81/100\n",
      "250/250 [==============================] - 0s 812us/step - loss: 0.3289 - accuracy: 0.8675\n",
      "Epoch 82/100\n",
      "250/250 [==============================] - 0s 882us/step - loss: 0.3287 - accuracy: 0.8660\n",
      "Epoch 83/100\n",
      "250/250 [==============================] - 0s 819us/step - loss: 0.3288 - accuracy: 0.8676\n",
      "Epoch 84/100\n",
      "250/250 [==============================] - 0s 756us/step - loss: 0.3287 - accuracy: 0.8665\n",
      "Epoch 85/100\n",
      "250/250 [==============================] - 0s 754us/step - loss: 0.3288 - accuracy: 0.8668\n",
      "Epoch 86/100\n",
      "250/250 [==============================] - 0s 882us/step - loss: 0.3285 - accuracy: 0.8658\n",
      "Epoch 87/100\n",
      "250/250 [==============================] - 0s 948us/step - loss: 0.3287 - accuracy: 0.8671\n",
      "Epoch 88/100\n",
      "250/250 [==============================] - 0s 955us/step - loss: 0.3289 - accuracy: 0.8668\n",
      "Epoch 89/100\n",
      "250/250 [==============================] - 0s 708us/step - loss: 0.3285 - accuracy: 0.8659\n",
      "Epoch 90/100\n",
      "250/250 [==============================] - 0s 692us/step - loss: 0.3285 - accuracy: 0.8676\n",
      "Epoch 91/100\n",
      "250/250 [==============================] - 0s 945us/step - loss: 0.3283 - accuracy: 0.8652\n",
      "Epoch 92/100\n",
      "250/250 [==============================] - 0s 756us/step - loss: 0.3283 - accuracy: 0.8666\n",
      "Epoch 93/100\n",
      "250/250 [==============================] - 0s 819us/step - loss: 0.3284 - accuracy: 0.8670\n",
      "Epoch 94/100\n",
      "250/250 [==============================] - 0s 756us/step - loss: 0.3288 - accuracy: 0.8673\n",
      "Epoch 95/100\n",
      "250/250 [==============================] - 0s 756us/step - loss: 0.3282 - accuracy: 0.8668\n",
      "Epoch 96/100\n",
      "250/250 [==============================] - 0s 882us/step - loss: 0.3279 - accuracy: 0.8670\n",
      "Epoch 97/100\n",
      "250/250 [==============================] - 0s 946us/step - loss: 0.3285 - accuracy: 0.8683\n",
      "Epoch 98/100\n",
      "250/250 [==============================] - 0s 955us/step - loss: 0.3281 - accuracy: 0.8660\n",
      "Epoch 99/100\n",
      "250/250 [==============================] - 0s 891us/step - loss: 0.3282 - accuracy: 0.8666\n",
      "Epoch 100/100\n",
      "250/250 [==============================] - 0s 952us/step - loss: 0.3280 - accuracy: 0.8674\n"
     ]
    },
    {
     "data": {
      "text/plain": "<keras.src.callbacks.History at 0x25bca05a8d0>"
     },
     "execution_count": 18,
     "metadata": {},
     "output_type": "execute_result"
    }
   ],
   "source": [
    "ann.fit(xTrain, yTrain, batch_size=32, epochs=100)"
   ],
   "metadata": {
    "collapsed": false,
    "pycharm": {
     "name": "#%%\n"
    }
   }
  },
  {
   "cell_type": "markdown",
   "source": [
    "# Part 4 - Making the predictions and evaluating the model"
   ],
   "metadata": {
    "collapsed": false,
    "pycharm": {
     "name": "#%% md\n"
    }
   }
  },
  {
   "cell_type": "markdown",
   "source": [
    "## Predicting the result of a single observation"
   ],
   "metadata": {
    "collapsed": false,
    "pycharm": {
     "name": "#%% md\n"
    }
   }
  },
  {
   "cell_type": "markdown",
   "source": [
    "**Homework**\n",
    "\n",
    "Use our ANN model to predict if the customer with the following informations will leave the bank:\n",
    "\n",
    "Geography: France\n",
    "\n",
    "Credit Score: 600\n",
    "\n",
    "Gender: Male\n",
    "\n",
    "Age: 40 years old\n",
    "\n",
    "Tenure: 3 years\n",
    "\n",
    "Balance: \\$ 60000\n",
    "\n",
    "Number of Products: 2\n",
    "\n",
    "Does this customer have a credit card ? Yes\n",
    "\n",
    "Is this customer an Active Member: Yes\n",
    "\n",
    "Estimated Salary: \\$ 50000\n",
    "\n",
    "So, should we say goodbye to that customer ?"
   ],
   "metadata": {
    "collapsed": false,
    "pycharm": {
     "name": "#%% md\n"
    }
   }
  },
  {
   "cell_type": "markdown",
   "source": [
    "**Solution**"
   ],
   "metadata": {
    "collapsed": false,
    "pycharm": {
     "name": "#%% md\n"
    }
   }
  },
  {
   "cell_type": "code",
   "execution_count": 19,
   "outputs": [
    {
     "name": "stdout",
     "output_type": "stream",
     "text": [
      "France\n",
      "1/1 [==============================] - 0s 63ms/step\n",
      "[[False]]\n",
      "1/1 [==============================] - 0s 16ms/step\n",
      "[[0.01502944]]\n"
     ]
    }
   ],
   "source": [
    "tt = [[600, 'France', 'Male', 40, 3, 60000, 2, 1, 1, 50000]]\n",
    "print(tt[0][1])\n",
    "tt[0][2] = le.transform([tt[0][2]])\n",
    "tt = np.array(ct.transform(tt))\n",
    "tt = sc.transform(tt)\n",
    "print(ann.predict(tt) > 0.5)\n",
    "print(ann.predict(tt))"
   ],
   "metadata": {
    "collapsed": false,
    "pycharm": {
     "name": "#%%\n"
    }
   }
  },
  {
   "cell_type": "code",
   "execution_count": 20,
   "outputs": [
    {
     "name": "stdout",
     "output_type": "stream",
     "text": [
      "1/1 [==============================] - 0s 16ms/step\n",
      "[[False]]\n",
      "1/1 [==============================] - 0s 16ms/step\n",
      "[[0.01502944]]\n"
     ]
    }
   ],
   "source": [
    "print(ann.predict(sc.transform([[1, 0, 0, 600, 1, 40, 3, 60000, 2, 1, 1, 50000]])) > 0.5)\n",
    "print(ann.predict(sc.transform([[1, 0, 0, 600, 1, 40, 3, 60000, 2, 1, 1, 50000]])))"
   ],
   "metadata": {
    "collapsed": false,
    "pycharm": {
     "name": "#%%\n"
    }
   }
  },
  {
   "cell_type": "markdown",
   "source": [
    "Therefore, our ANN model predicts that this customer stays in the bank!\n",
    "\n",
    "**Important note 1:** Notice that the values of the features were all input in a double pair of square brackets. That's because the \"predict\" method always expects a 2D array as the format of its inputs. And putting our values into a double pair of square brackets makes the input exactly a 2D array.\n",
    "\n",
    "**Important note 2:** Notice also that the \"France\" country was not input as a string in the last column but as \"1, 0, 0\" in the first three columns. That's because of course the predict method expects the one-hot-encoded values of the state, and as we see in the first row of the matrix of features X, \"France\" was encoded as \"1, 0, 0\". And be careful to include these values in the first three columns, because the dummy variables are always created in the first columns."
   ],
   "metadata": {
    "collapsed": false,
    "pycharm": {
     "name": "#%% md\n"
    }
   }
  },
  {
   "cell_type": "markdown",
   "source": [
    "## Predicting the Test set results"
   ],
   "metadata": {
    "collapsed": false,
    "pycharm": {
     "name": "#%% md\n"
    }
   }
  },
  {
   "cell_type": "code",
   "execution_count": 21,
   "outputs": [
    {
     "name": "stdout",
     "output_type": "stream",
     "text": [
      "63/63 [==============================] - 0s 762us/step\n",
      "[[0 0]\n",
      " [0 1]\n",
      " [0 0]\n",
      " ...\n",
      " [0 0]\n",
      " [0 0]\n",
      " [0 0]]\n"
     ]
    }
   ],
   "source": [
    "yPred = ann.predict(xTest)\n",
    "yPred = (yPred > 0.5)\n",
    "print(np.concatenate((yPred.reshape(len(yPred), 1), yTest.reshape(len(yTest), 1)), 1))"
   ],
   "metadata": {
    "collapsed": false,
    "pycharm": {
     "name": "#%%\n"
    }
   }
  },
  {
   "cell_type": "markdown",
   "source": [
    "## Making the Confusion Matrix"
   ],
   "metadata": {
    "collapsed": false,
    "pycharm": {
     "name": "#%% md\n"
    }
   }
  },
  {
   "cell_type": "code",
   "execution_count": 22,
   "outputs": [
    {
     "name": "stdout",
     "output_type": "stream",
     "text": [
      "[[1509   86]\n",
      " [ 196  209]]\n"
     ]
    },
    {
     "data": {
      "text/plain": "0.859"
     },
     "execution_count": 22,
     "metadata": {},
     "output_type": "execute_result"
    }
   ],
   "source": [
    "from sklearn.metrics import confusion_matrix, accuracy_score\n",
    "cm = confusion_matrix(yTest, yPred)\n",
    "print(cm)\n",
    "accuracy_score(yTest, yPred)"
   ],
   "metadata": {
    "collapsed": false,
    "pycharm": {
     "name": "#%%\n"
    }
   }
  }
 ],
 "metadata": {
  "kernelspec": {
   "display_name": "Python 3",
   "language": "python",
   "name": "python3"
  },
  "language_info": {
   "codemirror_mode": {
    "name": "ipython",
    "version": 2
   },
   "file_extension": ".py",
   "mimetype": "text/x-python",
   "name": "python",
   "nbconvert_exporter": "python",
   "pygments_lexer": "ipython2",
   "version": "2.7.6"
  }
 },
 "nbformat": 4,
 "nbformat_minor": 0
}